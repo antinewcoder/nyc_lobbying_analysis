import pandas as pd
import numpy as np



#Load in the data
df = pd.read_csv("data/Lobbyists__Fundraising_and_Political_Consulting_Reports_20250613.csv")
df.head()



# Analyze the data for missing info and statistical information
df.isnull().sum()


#Drop the third party since no information exists in such category and the additional information about the firm itself
df.columns
lobbying = df.copy().drop(["Filing Period", "Street Address", "City", "State", "Zip Code", "Phone Number","Principal First Name", 
                "Principal Last Name", "Lobbyist Employees", "Political Committee", "Third Party"], axis = 1)







